{
 "cells": [
  {
   "cell_type": "code",
   "execution_count": 2,
   "id": "dfafe2c5-8b26-4446-8695-1d33d7f54a8b",
   "metadata": {
    "scrolled": true
   },
   "outputs": [
    {
     "name": "stderr",
     "output_type": "stream",
     "text": [
      "/home/emac1995/devops_course/task2/Deploying-a-Scalable-ML-Pipeline-with-FastAPI/fastapi/lib/python3.11/site-packages/sklearn/preprocessing/_encoders.py:975: FutureWarning: `sparse` was renamed to `sparse_output` in version 1.2 and will be removed in 1.4. `sparse_output` is ignored unless you leave `sparse` to its default value.\n",
      "  warnings.warn(\n"
     ]
    },
    {
     "name": "stdout",
     "output_type": "stream",
     "text": [
      "Precision: 0.7164 | Recall: 0.2458 | F1: 0.3661\n"
     ]
    }
   ],
   "source": [
    "%run train_model.py"
   ]
  },
  {
   "cell_type": "code",
   "execution_count": null,
   "id": "aa0f8cf6-fd8c-45f6-b825-dbfbd38294b8",
   "metadata": {},
   "outputs": [],
   "source": []
  },
  {
   "cell_type": "code",
   "execution_count": 5,
   "id": "eed87f24-402a-42c9-a716-9af2636df367",
   "metadata": {
    "scrolled": true
   },
   "outputs": [
    {
     "name": "stderr",
     "output_type": "stream",
     "text": [
      "/home/emac1995/devops_course/task2/Deploying-a-Scalable-ML-Pipeline-with-FastAPI/fastapi/lib/python3.11/site-packages/sklearn/preprocessing/_encoders.py:975: FutureWarning: `sparse` was renamed to `sparse_output` in version 1.2 and will be removed in 1.4. `sparse_output` is ignored unless you leave `sparse` to its default value.\n",
      "  warnings.warn(\n"
     ]
    },
    {
     "name": "stdout",
     "output_type": "stream",
     "text": [
      "Precision: 0.7285 | Recall: 0.2699 | F1: 0.3939\n"
     ]
    }
   ],
   "source": [
    "%run train_model_test_code.py"
   ]
  },
  {
   "cell_type": "code",
   "execution_count": 1,
   "id": "2815263b-8458-46c6-9ea2-caf98ef9a463",
   "metadata": {},
   "outputs": [
    {
     "ename": "ModuleNotFoundError",
     "evalue": "No module named 'pytest'",
     "output_type": "error",
     "traceback": [
      "\u001b[0;31m---------------------------------------------------------------------------\u001b[0m",
      "\u001b[0;31mModuleNotFoundError\u001b[0m                       Traceback (most recent call last)",
      "File \u001b[0;32m~/devops_course/task2/Deploying-a-Scalable-ML-Pipeline-with-FastAPI/test_ml.py:1\u001b[0m\n\u001b[0;32m----> 1\u001b[0m \u001b[38;5;28;01mimport\u001b[39;00m \u001b[38;5;21;01mpytest\u001b[39;00m\n\u001b[1;32m      2\u001b[0m \u001b[38;5;66;03m# TODO: add necessary import\u001b[39;00m\n\u001b[1;32m      3\u001b[0m \u001b[38;5;28;01mimport\u001b[39;00m \u001b[38;5;21;01mnumpy\u001b[39;00m \u001b[38;5;28;01mas\u001b[39;00m \u001b[38;5;21;01mnp\u001b[39;00m\n",
      "\u001b[0;31mModuleNotFoundError\u001b[0m: No module named 'pytest'"
     ]
    }
   ],
   "source": [
    "%run test_ml.py"
   ]
  },
  {
   "cell_type": "code",
   "execution_count": null,
   "id": "c0c74ec9-4ba1-4273-82af-2e8215553b26",
   "metadata": {},
   "outputs": [],
   "source": [
    "#autopep8 --in-place --aggressive --aggressive test_ml.py"
   ]
  },
  {
   "cell_type": "code",
   "execution_count": 2,
   "id": "2d520e20-59c2-4ee9-b5f8-8b7f254b316b",
   "metadata": {},
   "outputs": [],
   "source": [
    "%run main.py"
   ]
  },
  {
   "cell_type": "code",
   "execution_count": 1,
   "id": "d63d6682-15ff-4ebe-afe9-84c005f09613",
   "metadata": {},
   "outputs": [
    {
     "ename": "SyntaxError",
     "evalue": "invalid syntax (147684825.py, line 1)",
     "output_type": "error",
     "traceback": [
      "\u001b[0;36m  Cell \u001b[0;32mIn[1], line 1\u001b[0;36m\u001b[0m\n\u001b[0;31m    ERROR:    Exception in ASGI application                                                                                 Traceback (most recent call last):                                                                                        File \"/home/emac1995/devops_course/task2/Deploying-a-Scalable-ML-Pipeline-with-FastAPI/fastapi/lib/python3.11/site-packages/uvicorn/protocols/http/h11_impl.py\", line 408, in run_asgi                                                            result = await app(  # type: ignore[func-returns-value]                                                                          ^^^^^^^^^^^^^^^^^^^^^^^^^^^^^^^^^^^^^^^^^^^^^^                                                               File \"/home/emac1995/devops_course/task2/Deploying-a-Scalable-ML-Pipeline-with-FastAPI/fastapi/lib/python3.11/site-packages/uvicorn/middleware/proxy_headers.py\", line 84, in __call__                                                            return await self.app(scope, receive, send)                                                                                    ^^^^^^^^^^^^^^^^^^^^^^^^^^^^^^^^^^^^                                                                           File \"/home/emac1995/devops_course/task2/Deploying-a-Scalable-ML-Pipeline-with-FastAPI/fastapi/lib/python3.11/site-packages/fastapi/applications.py\", line 1106, in __call__                                                                      await super().__call__(scope, receive, send)                                                                          File \"/home/emac1995/devops_course/task2/Deploying-a-Scalable-ML-Pipeline-with-FastAPI/fastapi/lib/python3.11/site-packages/starlette/applications.py\", line 122, in __call__                                                                     await self.middleware_stack(scope, receive, send)                                                                     File \"/home/emac1995/devops_course/task2/Deploying-a-Scalable-ML-Pipeline-with-FastAPI/fastapi/lib/python3.11/site-packages/starlette/middleware/errors.py\", line 184, in __call__                                                                raise exc                                                                                                             File \"/home/emac1995/devops_course/task2/Deploying-a-Scalable-ML-Pipeline-with-FastAPI/fastapi/lib/python3.11/site-packages/starlette/middleware/errors.py\", line 162, in __call__                                                                await self.app(scope, receive, _send)                                                                                 File \"/home/emac1995/devops_course/task2/Deploying-a-Scalable-ML-Pipeline-with-FastAPI/fastapi/lib/python3.11/site-packages/starlette/middleware/exceptions.py\", line 79, in __call__                                                             raise exc                                                                                                             File \"/home/emac1995/devops_course/task2/Deploying-a-Scalable-ML-Pipeline-with-FastAPI/fastapi/lib/python3.11/site-packages/starlette/middleware/exceptions.py\", line 68, in __call__                                                             await self.app(scope, receive, sender)                                                                                File \"/home/emac1995/devops_course/task2/Deploying-a-Scalable-ML-Pipeline-with-FastAPI/fastapi/lib/python3.11/site-packages/fastapi/middleware/asyncexitstack.py\", line 20, in __call__                                                           raise e                                                                                                               File \"/home/emac1995/devops_course/task2/Deploying-a-Scalable-ML-Pipeline-with-FastAPI/fastapi/lib/python3.11/site-packages/fastapi/middleware/asyncexitstack.py\", line 17, in __call__                                                           await self.app(scope, receive, send)                                                                                  File \"/home/emac1995/devops_course/task2/Deploying-a-Scalable-ML-Pipeline-with-FastAPI/fastapi/lib/python3.11/site-packages/starlette/routing.py\", line 718, in __call__                                                                          await route.handle(scope, receive, send)                                                                              File \"/home/emac1995/devops_course/task2/Deploying-a-Scalable-ML-Pipeline-with-FastAPI/fastapi/lib/python3.11/site-packages/starlette/routing.py\", line 276, in handle                                                                            await self.app(scope, receive, send)                                                                                  File \"/home/emac1995/devops_course/task2/Deploying-a-Scalable-ML-Pipeline-with-FastAPI/fastapi/lib/python3.11/site-packages/starlette/routing.py\", line 66, in app                                                                                response = await func(request)                                                                                                     ^^^^^^^^^^^^^^^^^^^                                                                                        File \"/home/emac1995/devops_course/task2/Deploying-a-Scalable-ML-Pipeline-with-FastAPI/fastapi/lib/python3.11/site-packages/fastapi/routing.py\", line 274, in app                                                                                 raw_response = await run_endpoint_function(                                                                                            ^^^^^^^^^^^^^^^^^^^^^^^^^^^^                                                                           File \"/home/emac1995/devops_course/task2/Deploying-a-Scalable-ML-Pipeline-with-FastAPI/fastapi/lib/python3.11/site-packages/fastapi/routing.py\", line 191, in run_endpoint_function                                                               return await dependant.call(**values)                                                                                          ^^^^^^^^^^^^^^^^^^^^^^^^^^^^^^                                                                                 File \"/home/emac1995/devops_course/task2/Deploying-a-Scalable-ML-Pipeline-with-FastAPI/main.py\", line 74, in post_inference                                                                                                                       data_processed, _, _, _ = process_data(                                                                                                           ^^^^^^^^^^^^^                                                                               File \"/home/emac1995/devops_course/task2/Deploying-a-Scalable-ML-Pipeline-with-FastAPI/ml/data.py\", line 63, in process_data                                                                                                                      X_categorical = encoder.transform(X_categorical)                                                                                        ^^^^^^^^^^^^^^^^^                                                                                   AttributeError: 'NoneType' object has no attribute 'transform'\u001b[0m\n\u001b[0m                                ^\u001b[0m\n\u001b[0;31mSyntaxError\u001b[0m\u001b[0;31m:\u001b[0m invalid syntax\n"
     ]
    }
   ],
   "source": [
    "ERROR:    Exception in ASGI application                                                                                 Traceback (most recent call last):                                                                                        File \"/home/emac1995/devops_course/task2/Deploying-a-Scalable-ML-Pipeline-with-FastAPI/fastapi/lib/python3.11/site-packages/uvicorn/protocols/http/h11_impl.py\", line 408, in run_asgi                                                            result = await app(  # type: ignore[func-returns-value]                                                                          ^^^^^^^^^^^^^^^^^^^^^^^^^^^^^^^^^^^^^^^^^^^^^^                                                               File \"/home/emac1995/devops_course/task2/Deploying-a-Scalable-ML-Pipeline-with-FastAPI/fastapi/lib/python3.11/site-packages/uvicorn/middleware/proxy_headers.py\", line 84, in __call__                                                            return await self.app(scope, receive, send)                                                                                    ^^^^^^^^^^^^^^^^^^^^^^^^^^^^^^^^^^^^                                                                           File \"/home/emac1995/devops_course/task2/Deploying-a-Scalable-ML-Pipeline-with-FastAPI/fastapi/lib/python3.11/site-packages/fastapi/applications.py\", line 1106, in __call__                                                                      await super().__call__(scope, receive, send)                                                                          File \"/home/emac1995/devops_course/task2/Deploying-a-Scalable-ML-Pipeline-with-FastAPI/fastapi/lib/python3.11/site-packages/starlette/applications.py\", line 122, in __call__                                                                     await self.middleware_stack(scope, receive, send)                                                                     File \"/home/emac1995/devops_course/task2/Deploying-a-Scalable-ML-Pipeline-with-FastAPI/fastapi/lib/python3.11/site-packages/starlette/middleware/errors.py\", line 184, in __call__                                                                raise exc                                                                                                             File \"/home/emac1995/devops_course/task2/Deploying-a-Scalable-ML-Pipeline-with-FastAPI/fastapi/lib/python3.11/site-packages/starlette/middleware/errors.py\", line 162, in __call__                                                                await self.app(scope, receive, _send)                                                                                 File \"/home/emac1995/devops_course/task2/Deploying-a-Scalable-ML-Pipeline-with-FastAPI/fastapi/lib/python3.11/site-packages/starlette/middleware/exceptions.py\", line 79, in __call__                                                             raise exc                                                                                                             File \"/home/emac1995/devops_course/task2/Deploying-a-Scalable-ML-Pipeline-with-FastAPI/fastapi/lib/python3.11/site-packages/starlette/middleware/exceptions.py\", line 68, in __call__                                                             await self.app(scope, receive, sender)                                                                                File \"/home/emac1995/devops_course/task2/Deploying-a-Scalable-ML-Pipeline-with-FastAPI/fastapi/lib/python3.11/site-packages/fastapi/middleware/asyncexitstack.py\", line 20, in __call__                                                           raise e                                                                                                               File \"/home/emac1995/devops_course/task2/Deploying-a-Scalable-ML-Pipeline-with-FastAPI/fastapi/lib/python3.11/site-packages/fastapi/middleware/asyncexitstack.py\", line 17, in __call__                                                           await self.app(scope, receive, send)                                                                                  File \"/home/emac1995/devops_course/task2/Deploying-a-Scalable-ML-Pipeline-with-FastAPI/fastapi/lib/python3.11/site-packages/starlette/routing.py\", line 718, in __call__                                                                          await route.handle(scope, receive, send)                                                                              File \"/home/emac1995/devops_course/task2/Deploying-a-Scalable-ML-Pipeline-with-FastAPI/fastapi/lib/python3.11/site-packages/starlette/routing.py\", line 276, in handle                                                                            await self.app(scope, receive, send)                                                                                  File \"/home/emac1995/devops_course/task2/Deploying-a-Scalable-ML-Pipeline-with-FastAPI/fastapi/lib/python3.11/site-packages/starlette/routing.py\", line 66, in app                                                                                response = await func(request)                                                                                                     ^^^^^^^^^^^^^^^^^^^                                                                                        File \"/home/emac1995/devops_course/task2/Deploying-a-Scalable-ML-Pipeline-with-FastAPI/fastapi/lib/python3.11/site-packages/fastapi/routing.py\", line 274, in app                                                                                 raw_response = await run_endpoint_function(                                                                                            ^^^^^^^^^^^^^^^^^^^^^^^^^^^^                                                                           File \"/home/emac1995/devops_course/task2/Deploying-a-Scalable-ML-Pipeline-with-FastAPI/fastapi/lib/python3.11/site-packages/fastapi/routing.py\", line 191, in run_endpoint_function                                                               return await dependant.call(**values)                                                                                          ^^^^^^^^^^^^^^^^^^^^^^^^^^^^^^                                                                                 File \"/home/emac1995/devops_course/task2/Deploying-a-Scalable-ML-Pipeline-with-FastAPI/main.py\", line 74, in post_inference                                                                                                                       data_processed, _, _, _ = process_data(                                                                                                           ^^^^^^^^^^^^^                                                                               File \"/home/emac1995/devops_course/task2/Deploying-a-Scalable-ML-Pipeline-with-FastAPI/ml/data.py\", line 63, in process_data                                                                                                                      X_categorical = encoder.transform(X_categorical)                                                                                        ^^^^^^^^^^^^^^^^^                                                                                   AttributeError: 'NoneType' object has no attribute 'transform' "
   ]
  },
  {
   "cell_type": "code",
   "execution_count": null,
   "id": "8ffce101-fd75-4a29-ae53-76c725a1f0c7",
   "metadata": {},
   "outputs": [],
   "source": []
  }
 ],
 "metadata": {
  "kernelspec": {
   "display_name": "Python 3 (ipykernel)",
   "language": "python",
   "name": "python3"
  },
  "language_info": {
   "codemirror_mode": {
    "name": "ipython",
    "version": 3
   },
   "file_extension": ".py",
   "mimetype": "text/x-python",
   "name": "python",
   "nbconvert_exporter": "python",
   "pygments_lexer": "ipython3",
   "version": "3.11.5"
  }
 },
 "nbformat": 4,
 "nbformat_minor": 5
}
